{
  "cells": [
    {
      "cell_type": "markdown",
      "metadata": {
        "colab_type": "text",
        "id": "o40y8HxDYE3G"
      },
      "source": [
        "# Time Series Anomaly Detection using LSTM Autoencoders with PyTorch in Python"
      ]
    },
    {
      "cell_type": "code",
      "execution_count": null,
      "metadata": {
        "colab": {
          "base_uri": "https://localhost:8080/",
          "height": 306
        },
        "colab_type": "code",
        "id": "NyPqdFSzUW8F",
        "outputId": "4a0b47bf-c222-4099-a124-65a037c024db"
      },
      "outputs": [
        {
          "ename": "",
          "evalue": "",
          "output_type": "error",
          "traceback": [
            "\u001b[1;31mДля выполнения ячеек с \"Python 3.10.4 ('tensor_env')\" требуется пакет ipykernel.\n",
            "\u001b[1;31mВыполните следующую команду, чтобы установить \"ipykernel\" в среде Python. \n",
            "\u001b[1;31mКоманда: \"conda install -n tensor_env ipykernel --update-deps --force-reinstall\""
          ]
        }
      ],
      "source": [
        "%nvidia-smi"
      ]
    },
    {
      "cell_type": "code",
      "execution_count": null,
      "metadata": {
        "colab": {},
        "colab_type": "code",
        "id": "_9tHU5two_TW"
      },
      "outputs": [
        {
          "ename": "",
          "evalue": "",
          "output_type": "error",
          "traceback": [
            "\u001b[1;31mДля выполнения ячеек с \"Python 3.10.4 ('tensor_env')\" требуется пакет ipykernel.\n",
            "\u001b[1;31mВыполните следующую команду, чтобы установить \"ipykernel\" в среде Python. \n",
            "\u001b[1;31mКоманда: \"conda install -n tensor_env ipykernel --update-deps --force-reinstall\""
          ]
        }
      ],
      "source": [
        "!pip install -qq arff2pandas"
      ]
    },
    {
      "cell_type": "code",
      "execution_count": null,
      "metadata": {
        "colab": {},
        "colab_type": "code",
        "id": "XRYTtmMDtLuG"
      },
      "outputs": [
        {
          "ename": "",
          "evalue": "",
          "output_type": "error",
          "traceback": [
            "\u001b[1;31mДля выполнения ячеек с \"Python 3.10.4 ('tensor_env')\" требуется пакет ipykernel.\n",
            "\u001b[1;31mВыполните следующую команду, чтобы установить \"ipykernel\" в среде Python. \n",
            "\u001b[1;31mКоманда: \"conda install -n tensor_env ipykernel --update-deps --force-reinstall\""
          ]
        }
      ],
      "source": [
        "!pip install -q -U watermark"
      ]
    },
    {
      "cell_type": "code",
      "execution_count": null,
      "metadata": {
        "colab": {},
        "colab_type": "code",
        "id": "-ugDZzk5bSju"
      },
      "outputs": [
        {
          "ename": "",
          "evalue": "",
          "output_type": "error",
          "traceback": [
            "\u001b[1;31mДля выполнения ячеек с \"Python 3.10.4 ('tensor_env')\" требуется пакет ipykernel.\n",
            "\u001b[1;31mВыполните следующую команду, чтобы установить \"ipykernel\" в среде Python. \n",
            "\u001b[1;31mКоманда: \"conda install -n tensor_env ipykernel --update-deps --force-reinstall\""
          ]
        }
      ],
      "source": [
        "!pip install -qq -U pandas"
      ]
    },
    {
      "cell_type": "code",
      "execution_count": null,
      "metadata": {
        "colab": {
          "base_uri": "https://localhost:8080/",
          "height": 143
        },
        "colab_type": "code",
        "id": "NgNwOV2jtODd",
        "outputId": "e637029b-b066-41d2-935c-a6b5b93bf8a1"
      },
      "outputs": [
        {
          "ename": "",
          "evalue": "",
          "output_type": "error",
          "traceback": [
            "\u001b[1;31mДля выполнения ячеек с \"Python 3.10.4 ('tensor_env')\" требуется пакет ipykernel.\n",
            "\u001b[1;31mВыполните следующую команду, чтобы установить \"ipykernel\" в среде Python. \n",
            "\u001b[1;31mКоманда: \"conda install -n tensor_env ipykernel --update-deps --force-reinstall\""
          ]
        }
      ],
      "source": [
        "%reload_ext watermark\n",
        "%watermark -v -p numpy,pandas,torch,arff2pandas"
      ]
    },
    {
      "cell_type": "code",
      "execution_count": null,
      "metadata": {
        "colab": {},
        "colab_type": "code",
        "id": "3RY_N3gOmfDi"
      },
      "outputs": [
        {
          "ename": "",
          "evalue": "",
          "output_type": "error",
          "traceback": [
            "\u001b[1;31mДля выполнения ячеек с \"Python 3.10.4 ('tensor_env')\" требуется пакет ipykernel.\n",
            "\u001b[1;31mВыполните следующую команду, чтобы установить \"ipykernel\" в среде Python. \n",
            "\u001b[1;31mКоманда: \"conda install -n tensor_env ipykernel --update-deps --force-reinstall\""
          ]
        }
      ],
      "source": [
        "import torch\n",
        "\n",
        "import copy\n",
        "import numpy as np\n",
        "import pandas as pd\n",
        "import seaborn as sns\n",
        "from pylab import rcParams\n",
        "import matplotlib.pyplot as plt\n",
        "from matplotlib import rc\n",
        "from sklearn.model_selection import train_test_split\n",
        "\n",
        "from torch import nn, optim\n",
        "\n",
        "import torch.nn.functional as F\n",
        "from arff2pandas import a2p\n",
        "\n",
        "\n",
        "%matplotlib inline\n",
        "%config InlineBackend.figure_format='retina'\n",
        "\n",
        "sns.set(style='whitegrid', palette='muted', font_scale=1.2)\n",
        "\n",
        "HAPPY_COLORS_PALETTE = [\"#01BEFE\", \"#FFDD00\", \"#FF7D00\", \"#FF006D\", \"#ADFF02\", \"#8F00FF\"]\n",
        "\n",
        "sns.set_palette(sns.color_palette(HAPPY_COLORS_PALETTE))\n",
        "\n",
        "rcParams['figure.figsize'] = 12, 8\n",
        "\n",
        "RANDOM_SEED = 42\n",
        "np.random.seed(RANDOM_SEED)\n",
        "torch.manual_seed(RANDOM_SEED)"
      ]
    },
    {
      "cell_type": "markdown",
      "metadata": {
        "colab_type": "text",
        "id": "RN0e4KktjE88"
      },
      "source": [
        "In this tutorial, you'll learn how to detect anomalies in Time Series data using an LSTM Autoencoder. You're going to use real-world ECG data from a single patient with heart disease to detect abnormal hearbeats.\n",
        "\n",
        "- [Read the tutorial](https://www.curiousily.com/posts/time-series-anomaly-detection-using-lstm-autoencoder-with-pytorch-in-python/)\n",
        "- [Run the notebook in your browser (Google Colab)](https://colab.research.google.com/drive/1_J2MrBSvsJfOcVmYAN2-WSp36BtsFZCa)\n",
        "- [Read the Getting Things Done with Pytorch book](https://github.com/curiousily/Getting-Things-Done-with-Pytorch)\n",
        "\n",
        "By the end of this tutorial, you'll learn how to:\n",
        "\n",
        "- Prepare a dataset for Anomaly Detection from Time Series Data\n",
        "- Build an LSTM Autoencoder with PyTorch\n",
        "- Train and evaluate your model\n",
        "- Choose a threshold for anomaly detection\n",
        "- Classify unseen examples as normal or anomaly"
      ]
    },
    {
      "cell_type": "markdown",
      "metadata": {
        "colab_type": "text",
        "id": "ZnW3JsIFW_Yw"
      },
      "source": [
        "## Data\n",
        "\n",
        "\n",
        "\n",
        "The [dataset](http://timeseriesclassification.com/description.php?Dataset=ECG5000) contains 5,000 Time Series examples (obtained with ECG) with 140 timesteps. Each sequence corresponds to a single heartbeat from a single patient with congestive heart failure.\n",
        "\n",
        "> An electrocardiogram (ECG or EKG) is a test that checks how your heart is functioning by measuring the electrical activity of the heart. With each heart beat, an electrical impulse (or wave) travels through your heart. This wave causes the muscle to squeeze and pump blood from the heart. [Source](https://www.heartandstroke.ca/heart/tests/electrocardiogram)\n",
        "\n",
        "We have 5 types of hearbeats (classes):\n",
        "\n",
        "- Normal (N) \n",
        "- R-on-T Premature Ventricular Contraction (R-on-T PVC)\n",
        "- Premature Ventricular Contraction (PVC)\n",
        "- Supra-ventricular Premature or Ectopic Beat (SP or EB) \n",
        "- Unclassified Beat (UB).\n",
        "\n",
        "> Assuming a healthy heart and a typical rate of 70 to 75 beats per minute, each cardiac cycle, or heartbeat, takes about 0.8 seconds to complete the cycle.\n",
        "Frequency: 60–100 per minute (Humans)\n",
        "Duration: 0.6–1 second (Humans) [Source](https://en.wikipedia.org/wiki/Cardiac_cycle)\n",
        "\n",
        "The dataset is available on my Google Drive. Let's get it:"
      ]
    },
    {
      "cell_type": "code",
      "execution_count": null,
      "metadata": {
        "colab": {
          "base_uri": "https://localhost:8080/",
          "height": 85
        },
        "colab_type": "code",
        "id": "dDlfeY2VAYdU",
        "outputId": "4f4b9224-ff7a-4c3a-ec3b-9eed064e0d52"
      },
      "outputs": [
        {
          "ename": "",
          "evalue": "",
          "output_type": "error",
          "traceback": [
            "\u001b[1;31mДля выполнения ячеек с \"Python 3.10.4 ('tensor_env')\" требуется пакет ipykernel.\n",
            "\u001b[1;31mВыполните следующую команду, чтобы установить \"ipykernel\" в среде Python. \n",
            "\u001b[1;31mКоманда: \"conda install -n tensor_env ipykernel --update-deps --force-reinstall\""
          ]
        }
      ],
      "source": [
        "!gdown --id 16MIleqoIr1vYxlGk4GKnGmrsCPuWkkpT"
      ]
    },
    {
      "cell_type": "code",
      "execution_count": null,
      "metadata": {
        "colab": {},
        "colab_type": "code",
        "id": "L_gYlNi2AaOK"
      },
      "outputs": [
        {
          "ename": "",
          "evalue": "",
          "output_type": "error",
          "traceback": [
            "\u001b[1;31mДля выполнения ячеек с \"Python 3.10.4 ('tensor_env')\" требуется пакет ipykernel.\n",
            "\u001b[1;31mВыполните следующую команду, чтобы установить \"ipykernel\" в среде Python. \n",
            "\u001b[1;31mКоманда: \"conda install -n tensor_env ipykernel --update-deps --force-reinstall\""
          ]
        }
      ],
      "source": [
        "!unzip -qq ECG5000.zip"
      ]
    },
    {
      "cell_type": "code",
      "execution_count": null,
      "metadata": {
        "colab": {},
        "colab_type": "code",
        "id": "DFWsBcdWjDkU"
      },
      "outputs": [
        {
          "ename": "",
          "evalue": "",
          "output_type": "error",
          "traceback": [
            "\u001b[1;31mДля выполнения ячеек с \"Python 3.10.4 ('tensor_env')\" требуется пакет ipykernel.\n",
            "\u001b[1;31mВыполните следующую команду, чтобы установить \"ipykernel\" в среде Python. \n",
            "\u001b[1;31mКоманда: \"conda install -n tensor_env ipykernel --update-deps --force-reinstall\""
          ]
        }
      ],
      "source": [
        "device = torch.device(\"cuda\" if torch.cuda.is_available() else \"cpu\")"
      ]
    },
    {
      "cell_type": "markdown",
      "metadata": {
        "colab_type": "text",
        "id": "iVrX_m4CBAD6"
      },
      "source": [
        "The data comes in multiple formats. We'll load the `arff` files into Pandas data frames:"
      ]
    },
    {
      "cell_type": "code",
      "execution_count": null,
      "metadata": {
        "colab": {},
        "colab_type": "code",
        "id": "sh_8XjtEBVYq"
      },
      "outputs": [
        {
          "ename": "",
          "evalue": "",
          "output_type": "error",
          "traceback": [
            "\u001b[1;31mДля выполнения ячеек с \"Python 3.10.4 ('tensor_env')\" требуется пакет ipykernel.\n",
            "\u001b[1;31mВыполните следующую команду, чтобы установить \"ipykernel\" в среде Python. \n",
            "\u001b[1;31mКоманда: \"conda install -n tensor_env ipykernel --update-deps --force-reinstall\""
          ]
        }
      ],
      "source": [
        "with open('ECG5000_TRAIN.arff') as f:\n",
        "  train = a2p.load(f)\n",
        "\n",
        "with open('ECG5000_TEST.arff') as f:\n",
        "  test = a2p.load(f)"
      ]
    },
    {
      "cell_type": "markdown",
      "metadata": {
        "colab_type": "text",
        "id": "UDtaZ2uTCG11"
      },
      "source": [
        "We'll combine the training and test data into a single data frame. This will give us more data to train our Autoencoder. We'll also shuffle it:"
      ]
    },
    {
      "cell_type": "code",
      "execution_count": null,
      "metadata": {
        "colab": {
          "base_uri": "https://localhost:8080/",
          "height": 35
        },
        "colab_type": "code",
        "id": "tAyxwvbB5-9o",
        "outputId": "7c69e8d9-7b80-436c-8dea-16109169fc83"
      },
      "outputs": [
        {
          "ename": "",
          "evalue": "",
          "output_type": "error",
          "traceback": [
            "\u001b[1;31mДля выполнения ячеек с \"Python 3.10.4 ('tensor_env')\" требуется пакет ipykernel.\n",
            "\u001b[1;31mВыполните следующую команду, чтобы установить \"ipykernel\" в среде Python. \n",
            "\u001b[1;31mКоманда: \"conda install -n tensor_env ipykernel --update-deps --force-reinstall\""
          ]
        }
      ],
      "source": [
        "df = train.append(test)\n",
        "df = df.sample(frac=1.0)\n",
        "df.shape"
      ]
    },
    {
      "cell_type": "code",
      "execution_count": null,
      "metadata": {
        "colab": {
          "base_uri": "https://localhost:8080/",
          "height": 253
        },
        "colab_type": "code",
        "id": "KpkkVdrLCSAs",
        "outputId": "9dc73fde-a213-47f4-8b8b-f55fbf3c1dc1"
      },
      "outputs": [
        {
          "ename": "",
          "evalue": "",
          "output_type": "error",
          "traceback": [
            "\u001b[1;31mДля выполнения ячеек с \"Python 3.10.4 ('tensor_env')\" требуется пакет ipykernel.\n",
            "\u001b[1;31mВыполните следующую команду, чтобы установить \"ipykernel\" в среде Python. \n",
            "\u001b[1;31mКоманда: \"conda install -n tensor_env ipykernel --update-deps --force-reinstall\""
          ]
        }
      ],
      "source": [
        "df.head()"
      ]
    },
    {
      "cell_type": "markdown",
      "metadata": {
        "colab_type": "text",
        "id": "K_f7F-ipCZNH"
      },
      "source": [
        "We have 5,000 examples. Each row represents a single heartbeat record. Let's name the possible classes:"
      ]
    },
    {
      "cell_type": "code",
      "execution_count": null,
      "metadata": {
        "colab": {},
        "colab_type": "code",
        "id": "9fcKHB5rcDcm"
      },
      "outputs": [
        {
          "ename": "",
          "evalue": "",
          "output_type": "error",
          "traceback": [
            "\u001b[1;31mДля выполнения ячеек с \"Python 3.10.4 ('tensor_env')\" требуется пакет ipykernel.\n",
            "\u001b[1;31mВыполните следующую команду, чтобы установить \"ipykernel\" в среде Python. \n",
            "\u001b[1;31mКоманда: \"conda install -n tensor_env ipykernel --update-deps --force-reinstall\""
          ]
        }
      ],
      "source": [
        "CLASS_NORMAL = 1\n",
        "\n",
        "class_names = ['Normal','R on T','PVC','SP','UB']"
      ]
    },
    {
      "cell_type": "markdown",
      "metadata": {
        "colab_type": "text",
        "id": "TFWOyTF3CpgT"
      },
      "source": [
        "Next, we'll rename the last column to `target`, so its easier to reference it:"
      ]
    },
    {
      "cell_type": "code",
      "execution_count": null,
      "metadata": {
        "colab": {},
        "colab_type": "code",
        "id": "6bfjzgJ7YEww"
      },
      "outputs": [
        {
          "ename": "",
          "evalue": "",
          "output_type": "error",
          "traceback": [
            "\u001b[1;31mДля выполнения ячеек с \"Python 3.10.4 ('tensor_env')\" требуется пакет ipykernel.\n",
            "\u001b[1;31mВыполните следующую команду, чтобы установить \"ipykernel\" в среде Python. \n",
            "\u001b[1;31mКоманда: \"conda install -n tensor_env ipykernel --update-deps --force-reinstall\""
          ]
        }
      ],
      "source": [
        "new_columns = list(df.columns)\n",
        "new_columns[-1] = 'target'\n",
        "df.columns = new_columns"
      ]
    },
    {
      "cell_type": "markdown",
      "metadata": {
        "colab_type": "text",
        "id": "nlf5aVLnjRCz"
      },
      "source": [
        "## Exploratory Data Analysis\n",
        "\n",
        "Let's check how many examples for each heartbeat class do we have:"
      ]
    },
    {
      "cell_type": "code",
      "execution_count": null,
      "metadata": {
        "colab": {
          "base_uri": "https://localhost:8080/",
          "height": 119
        },
        "colab_type": "code",
        "id": "QBxuqD1cdd2y",
        "outputId": "0746b248-5074-42b1-ce48-a69dce46322e"
      },
      "outputs": [
        {
          "ename": "",
          "evalue": "",
          "output_type": "error",
          "traceback": [
            "\u001b[1;31mДля выполнения ячеек с \"Python 3.10.4 ('tensor_env')\" требуется пакет ipykernel.\n",
            "\u001b[1;31mВыполните следующую команду, чтобы установить \"ipykernel\" в среде Python. \n",
            "\u001b[1;31mКоманда: \"conda install -n tensor_env ipykernel --update-deps --force-reinstall\""
          ]
        }
      ],
      "source": [
        "df.target.value_counts()"
      ]
    },
    {
      "cell_type": "markdown",
      "metadata": {
        "colab_type": "text",
        "id": "2EZVZYCsQKXV"
      },
      "source": [
        "Let's plot the results:"
      ]
    },
    {
      "cell_type": "code",
      "execution_count": null,
      "metadata": {
        "colab": {
          "base_uri": "https://localhost:8080/",
          "height": 506
        },
        "colab_type": "code",
        "id": "wn4s427Sf4eb",
        "outputId": "e2577373-8571-452d-b41c-6b8659ea15d3"
      },
      "outputs": [
        {
          "ename": "",
          "evalue": "",
          "output_type": "error",
          "traceback": [
            "\u001b[1;31mДля выполнения ячеек с \"Python 3.10.4 ('tensor_env')\" требуется пакет ipykernel.\n",
            "\u001b[1;31mВыполните следующую команду, чтобы установить \"ipykernel\" в среде Python. \n",
            "\u001b[1;31mКоманда: \"conda install -n tensor_env ipykernel --update-deps --force-reinstall\""
          ]
        }
      ],
      "source": [
        "ax = sns.countplot(df.target)\n",
        "ax.set_xticklabels(class_names);"
      ]
    },
    {
      "cell_type": "markdown",
      "metadata": {
        "colab_type": "text",
        "id": "e2m55fTyRNIf"
      },
      "source": [
        "The normal class, has by far, the most examples. This is great because we'll use it to train our model.\n",
        "\n",
        "Let's have a look at an averaged (smoothed out with one standard deviation on top and bottom of it) Time Series for each class:"
      ]
    },
    {
      "cell_type": "code",
      "execution_count": null,
      "metadata": {
        "colab": {},
        "colab_type": "code",
        "id": "UVvG0vhiU-ju"
      },
      "outputs": [
        {
          "ename": "",
          "evalue": "",
          "output_type": "error",
          "traceback": [
            "\u001b[1;31mДля выполнения ячеек с \"Python 3.10.4 ('tensor_env')\" требуется пакет ipykernel.\n",
            "\u001b[1;31mВыполните следующую команду, чтобы установить \"ipykernel\" в среде Python. \n",
            "\u001b[1;31mКоманда: \"conda install -n tensor_env ipykernel --update-deps --force-reinstall\""
          ]
        }
      ],
      "source": [
        "def plot_time_series_class(data, class_name, ax, n_steps=10):\n",
        "  time_series_df = pd.DataFrame(data)\n",
        "\n",
        "  smooth_path = time_series_df.rolling(n_steps).mean()\n",
        "  path_deviation = 2 * time_series_df.rolling(n_steps).std()\n",
        "\n",
        "  under_line = (smooth_path - path_deviation)[0]\n",
        "  over_line = (smooth_path + path_deviation)[0]\n",
        "\n",
        "  ax.plot(smooth_path, linewidth=2)\n",
        "  ax.fill_between(\n",
        "    path_deviation.index,\n",
        "    under_line,\n",
        "    over_line,\n",
        "    alpha=.125\n",
        "  )\n",
        "  ax.set_title(class_name)"
      ]
    },
    {
      "cell_type": "code",
      "execution_count": null,
      "metadata": {
        "colab": {
          "base_uri": "https://localhost:8080/",
          "height": 596
        },
        "colab_type": "code",
        "id": "xHaslHZ8JMSk",
        "outputId": "b394badd-9919-4aa7-ee69-8b7f9174484f"
      },
      "outputs": [
        {
          "ename": "",
          "evalue": "",
          "output_type": "error",
          "traceback": [
            "\u001b[1;31mДля выполнения ячеек с \"Python 3.10.4 ('tensor_env')\" требуется пакет ipykernel.\n",
            "\u001b[1;31mВыполните следующую команду, чтобы установить \"ipykernel\" в среде Python. \n",
            "\u001b[1;31mКоманда: \"conda install -n tensor_env ipykernel --update-deps --force-reinstall\""
          ]
        }
      ],
      "source": [
        "classes = df.target.unique()\n",
        "\n",
        "fig, axs = plt.subplots(\n",
        "  nrows=len(classes) // 3 + 1,\n",
        "  ncols=3,\n",
        "  sharey=True,\n",
        "  figsize=(14, 8)\n",
        ")\n",
        "\n",
        "for i, cls in enumerate(classes):\n",
        "  ax = axs.flat[i]\n",
        "  data = df[df.target == cls] \\\n",
        "    .drop(labels='target', axis=1) \\\n",
        "    .mean(axis=0) \\\n",
        "    .to_numpy()\n",
        "  plot_time_series_class(data, class_names[i], ax)\n",
        "\n",
        "fig.delaxes(axs.flat[-1])\n",
        "fig.tight_layout();"
      ]
    },
    {
      "cell_type": "markdown",
      "metadata": {
        "colab_type": "text",
        "id": "jDt33QoDTUIb"
      },
      "source": [
        "It is very good that the normal class has a distinctly different pattern than all other classes. Maybe our model will be able to detect anomalies?"
      ]
    },
    {
      "cell_type": "markdown",
      "metadata": {
        "colab_type": "text",
        "id": "gJRQl1p0Q57K"
      },
      "source": [
        "## LSTM Autoencoder\n",
        "\n",
        "The [Autoencoder's](https://en.wikipedia.org/wiki/Autoencoder) job is to get some input data, pass it through the model, and obtain a reconstruction of the input. The reconstruction should match the input as much as possible. The trick is to use a small number of parameters, so your model learns a compressed representation of the data.\n",
        "\n",
        "In a sense, Autoencoders try to learn only the most important features (compressed version) of the data. Here, we'll have a look at how to feed Time Series data to an Autoencoder. We'll use a couple of LSTM layers (hence the LSTM Autoencoder) to capture the temporal dependencies of the data.\n",
        "\n",
        "To classify a sequence as normal or an anomaly, we'll pick a threshold above which a heartbeat is considered abnormal.\n",
        "\n",
        "### Reconstruction Loss\n",
        "\n",
        "When training an Autoencoder, the objective is to reconstruct the input as best as possible. This is done by minimizing a loss function (just like in supervised learning). This function is known as *reconstruction loss*. Cross-entropy loss and Mean squared error are common examples."
      ]
    },
    {
      "cell_type": "markdown",
      "metadata": {
        "colab_type": "text",
        "id": "eFZ3o2F8eUaW"
      },
      "source": [
        "## Anomaly Detection in ECG Data\n",
        "\n",
        "We'll use normal heartbeats as training data for our model and record the *reconstruction loss*. But first, we need to prepare the data:"
      ]
    },
    {
      "cell_type": "markdown",
      "metadata": {
        "colab_type": "text",
        "id": "QGKKj6fgUV_a"
      },
      "source": [
        "### Data Preprocessing\n",
        "\n",
        "Let's get all normal heartbeats and drop the target (class) column:"
      ]
    },
    {
      "cell_type": "code",
      "execution_count": null,
      "metadata": {
        "colab": {
          "base_uri": "https://localhost:8080/",
          "height": 34
        },
        "colab_type": "code",
        "id": "NA0k8mTijyh-",
        "outputId": "53f14ed3-c11a-4475-9cb4-fa928598a6fe"
      },
      "outputs": [
        {
          "ename": "",
          "evalue": "",
          "output_type": "error",
          "traceback": [
            "\u001b[1;31mДля выполнения ячеек с \"Python 3.10.4 ('tensor_env')\" требуется пакет ipykernel.\n",
            "\u001b[1;31mВыполните следующую команду, чтобы установить \"ipykernel\" в среде Python. \n",
            "\u001b[1;31mКоманда: \"conda install -n tensor_env ipykernel --update-deps --force-reinstall\""
          ]
        }
      ],
      "source": [
        "normal_df = df[df.target == str(CLASS_NORMAL)].drop(labels='target', axis=1)\n",
        "normal_df.shape"
      ]
    },
    {
      "cell_type": "markdown",
      "metadata": {
        "colab_type": "text",
        "id": "PRCZ7uviaI1Y"
      },
      "source": [
        "We'll merge all other classes and mark them as anomalies:"
      ]
    },
    {
      "cell_type": "code",
      "execution_count": null,
      "metadata": {
        "colab": {
          "base_uri": "https://localhost:8080/",
          "height": 34
        },
        "colab_type": "code",
        "id": "xpdXIaDJstD3",
        "outputId": "c65ca508-0bb1-4de4-90c6-9fbad1eda682"
      },
      "outputs": [
        {
          "ename": "",
          "evalue": "",
          "output_type": "error",
          "traceback": [
            "\u001b[1;31mДля выполнения ячеек с \"Python 3.10.4 ('tensor_env')\" требуется пакет ipykernel.\n",
            "\u001b[1;31mВыполните следующую команду, чтобы установить \"ipykernel\" в среде Python. \n",
            "\u001b[1;31mКоманда: \"conda install -n tensor_env ipykernel --update-deps --force-reinstall\""
          ]
        }
      ],
      "source": [
        "anomaly_df = df[df.target != str(CLASS_NORMAL)].drop(labels='target', axis=1)\n",
        "anomaly_df.shape"
      ]
    },
    {
      "cell_type": "markdown",
      "metadata": {
        "colab_type": "text",
        "id": "ILcJJwpda15z"
      },
      "source": [
        "We'll split the normal examples into train, validation and test sets:"
      ]
    },
    {
      "cell_type": "code",
      "execution_count": null,
      "metadata": {
        "colab": {},
        "colab_type": "code",
        "id": "n7kJ7C3IFWIV"
      },
      "outputs": [
        {
          "ename": "",
          "evalue": "",
          "output_type": "error",
          "traceback": [
            "\u001b[1;31mДля выполнения ячеек с \"Python 3.10.4 ('tensor_env')\" требуется пакет ipykernel.\n",
            "\u001b[1;31mВыполните следующую команду, чтобы установить \"ipykernel\" в среде Python. \n",
            "\u001b[1;31mКоманда: \"conda install -n tensor_env ipykernel --update-deps --force-reinstall\""
          ]
        }
      ],
      "source": [
        "train_df, val_df = train_test_split(\n",
        "  normal_df,\n",
        "  test_size=0.15,\n",
        "  random_state=RANDOM_SEED\n",
        ")\n",
        "\n",
        "val_df, test_df = train_test_split(\n",
        "  val_df,\n",
        "  test_size=0.33, \n",
        "  random_state=RANDOM_SEED\n",
        ")"
      ]
    },
    {
      "cell_type": "markdown",
      "metadata": {
        "colab_type": "text",
        "id": "nWasRQ1dcAp4"
      },
      "source": [
        "We need to convert our examples into tensors, so we can use them to train our Autoencoder. Let's write a helper function for that:"
      ]
    },
    {
      "cell_type": "code",
      "execution_count": null,
      "metadata": {
        "colab": {},
        "colab_type": "code",
        "id": "h2kKiIIeBwKb"
      },
      "outputs": [
        {
          "ename": "",
          "evalue": "",
          "output_type": "error",
          "traceback": [
            "\u001b[1;31mДля выполнения ячеек с \"Python 3.10.4 ('tensor_env')\" требуется пакет ipykernel.\n",
            "\u001b[1;31mВыполните следующую команду, чтобы установить \"ipykernel\" в среде Python. \n",
            "\u001b[1;31mКоманда: \"conda install -n tensor_env ipykernel --update-deps --force-reinstall\""
          ]
        }
      ],
      "source": [
        "def create_dataset(df):\n",
        "\n",
        "  sequences = df.astype(np.float32).to_numpy().tolist()\n",
        "\n",
        "  dataset = [torch.tensor(s).unsqueeze(1).float() for s in sequences]\n",
        "\n",
        "  n_seq, seq_len, n_features = torch.stack(dataset).shape\n",
        "\n",
        "  return dataset, seq_len, n_features"
      ]
    },
    {
      "cell_type": "markdown",
      "metadata": {
        "colab_type": "text",
        "id": "WT4BekX2g4L_"
      },
      "source": [
        "Each Time Series will be converted to a 2D Tensor in the shape *sequence length* x *number of features* (140x1 in our case).\n",
        "\n",
        "Let's create some datasets:"
      ]
    },
    {
      "cell_type": "code",
      "execution_count": null,
      "metadata": {
        "colab": {},
        "colab_type": "code",
        "id": "Rb1UeUwbjmMD"
      },
      "outputs": [
        {
          "ename": "",
          "evalue": "",
          "output_type": "error",
          "traceback": [
            "\u001b[1;31mДля выполнения ячеек с \"Python 3.10.4 ('tensor_env')\" требуется пакет ipykernel.\n",
            "\u001b[1;31mВыполните следующую команду, чтобы установить \"ipykernel\" в среде Python. \n",
            "\u001b[1;31mКоманда: \"conda install -n tensor_env ipykernel --update-deps --force-reinstall\""
          ]
        }
      ],
      "source": [
        "train_dataset, seq_len, n_features = create_dataset(train_df)\n",
        "val_dataset, _, _ = create_dataset(val_df)\n",
        "test_normal_dataset, _, _ = create_dataset(test_df)\n",
        "test_anomaly_dataset, _, _ = create_dataset(anomaly_df)"
      ]
    },
    {
      "cell_type": "markdown",
      "metadata": {
        "colab_type": "text",
        "id": "gLe1hXvRUSnA"
      },
      "source": [
        "### LSTM Autoencoder\n",
        "\n",
        "![Autoencoder](https://lilianweng.github.io/lil-log/assets/images/autoencoder-architecture.png)\n",
        "*Sample Autoencoder Architecture [Image Source](https://lilianweng.github.io/lil-log/2018/08/12/from-autoencoder-to-beta-vae.html)*"
      ]
    },
    {
      "cell_type": "markdown",
      "metadata": {
        "colab_type": "text",
        "id": "SgZpEEzfqxNp"
      },
      "source": [
        "The general Autoencoder architecture consists of two components. An *Encoder* that compresses the input and a *Decoder* that tries to reconstruct it.\n",
        "\n",
        "We'll use the LSTM Autoencoder from this [GitHub repo](https://github.com/shobrook/sequitur) with some small tweaks. Our model's job is to reconstruct Time Series data. Let's start with the *Encoder*:"
      ]
    },
    {
      "cell_type": "code",
      "execution_count": null,
      "metadata": {
        "colab": {},
        "colab_type": "code",
        "id": "X_f1WaTJhiXy"
      },
      "outputs": [
        {
          "ename": "",
          "evalue": "",
          "output_type": "error",
          "traceback": [
            "\u001b[1;31mДля выполнения ячеек с \"Python 3.10.4 ('tensor_env')\" требуется пакет ipykernel.\n",
            "\u001b[1;31mВыполните следующую команду, чтобы установить \"ipykernel\" в среде Python. \n",
            "\u001b[1;31mКоманда: \"conda install -n tensor_env ipykernel --update-deps --force-reinstall\""
          ]
        }
      ],
      "source": [
        "class Encoder(nn.Module):\n",
        "\n",
        "  def __init__(self, seq_len, n_features, embedding_dim=64):\n",
        "    super(Encoder, self).__init__()\n",
        "\n",
        "    self.seq_len, self.n_features = seq_len, n_features\n",
        "    self.embedding_dim, self.hidden_dim = embedding_dim, 2 * embedding_dim\n",
        "\n",
        "    self.rnn1 = nn.LSTM(\n",
        "      input_size=n_features,\n",
        "      hidden_size=self.hidden_dim,\n",
        "      num_layers=1,\n",
        "      batch_first=True\n",
        "    )\n",
        "    \n",
        "    self.rnn2 = nn.LSTM(\n",
        "      input_size=self.hidden_dim,\n",
        "      hidden_size=embedding_dim,\n",
        "      num_layers=1,\n",
        "      batch_first=True\n",
        "    )\n",
        "\n",
        "  def forward(self, x):\n",
        "    x = x.reshape((1, self.seq_len, self.n_features))\n",
        "\n",
        "    x, (_, _) = self.rnn1(x)\n",
        "    x, (hidden_n, _) = self.rnn2(x)\n",
        "\n",
        "    return hidden_n.reshape((self.n_features, self.embedding_dim))"
      ]
    },
    {
      "cell_type": "markdown",
      "metadata": {
        "colab_type": "text",
        "id": "DysklqYmxTib"
      },
      "source": [
        "The *Encoder* uses two LSTM layers to compress the Time Series data input.\n",
        "\n",
        "Next, we'll decode the compressed representation using a *Decoder*:"
      ]
    },
    {
      "cell_type": "code",
      "execution_count": null,
      "metadata": {
        "colab": {},
        "colab_type": "code",
        "id": "AdEft7l3hk6S"
      },
      "outputs": [
        {
          "ename": "",
          "evalue": "",
          "output_type": "error",
          "traceback": [
            "\u001b[1;31mДля выполнения ячеек с \"Python 3.10.4 ('tensor_env')\" требуется пакет ipykernel.\n",
            "\u001b[1;31mВыполните следующую команду, чтобы установить \"ipykernel\" в среде Python. \n",
            "\u001b[1;31mКоманда: \"conda install -n tensor_env ipykernel --update-deps --force-reinstall\""
          ]
        }
      ],
      "source": [
        "class Decoder(nn.Module):\n",
        "\n",
        "  def __init__(self, seq_len, input_dim=64, n_features=1):\n",
        "    super(Decoder, self).__init__()\n",
        "\n",
        "    self.seq_len, self.input_dim = seq_len, input_dim\n",
        "    self.hidden_dim, self.n_features = 2 * input_dim, n_features\n",
        "\n",
        "    self.rnn1 = nn.LSTM(\n",
        "      input_size=input_dim,\n",
        "      hidden_size=input_dim,\n",
        "      num_layers=1,\n",
        "      batch_first=True\n",
        "    )\n",
        "\n",
        "    self.rnn2 = nn.LSTM(\n",
        "      input_size=input_dim,\n",
        "      hidden_size=self.hidden_dim,\n",
        "      num_layers=1,\n",
        "      batch_first=True\n",
        "    )\n",
        "\n",
        "    self.output_layer = nn.Linear(self.hidden_dim, n_features)\n",
        "\n",
        "  def forward(self, x):\n",
        "    x = x.repeat(self.seq_len, self.n_features)\n",
        "    x = x.reshape((self.n_features, self.seq_len, self.input_dim))\n",
        "\n",
        "    x, (hidden_n, cell_n) = self.rnn1(x)\n",
        "    x, (hidden_n, cell_n) = self.rnn2(x)\n",
        "    x = x.reshape((self.seq_len, self.hidden_dim))\n",
        "\n",
        "    return self.output_layer(x)"
      ]
    },
    {
      "cell_type": "markdown",
      "metadata": {
        "colab_type": "text",
        "id": "WUMb2NGZyTmi"
      },
      "source": [
        "Our Decoder contains two LSTM layers and an output layer that gives the final reconstruction.\n",
        "\n",
        "Time to wrap everything into an easy to use module:"
      ]
    },
    {
      "cell_type": "code",
      "execution_count": null,
      "metadata": {
        "colab": {},
        "colab_type": "code",
        "id": "vgUChGd_A-Bv"
      },
      "outputs": [
        {
          "ename": "",
          "evalue": "",
          "output_type": "error",
          "traceback": [
            "\u001b[1;31mДля выполнения ячеек с \"Python 3.10.4 ('tensor_env')\" требуется пакет ipykernel.\n",
            "\u001b[1;31mВыполните следующую команду, чтобы установить \"ipykernel\" в среде Python. \n",
            "\u001b[1;31mКоманда: \"conda install -n tensor_env ipykernel --update-deps --force-reinstall\""
          ]
        }
      ],
      "source": [
        "class RecurrentAutoencoder(nn.Module):\n",
        "\n",
        "  def __init__(self, seq_len, n_features, embedding_dim=64):\n",
        "    super(RecurrentAutoencoder, self).__init__()\n",
        "\n",
        "    self.encoder = Encoder(seq_len, n_features, embedding_dim).to(device)\n",
        "    self.decoder = Decoder(seq_len, embedding_dim, n_features).to(device)\n",
        "\n",
        "  def forward(self, x):\n",
        "    x = self.encoder(x)\n",
        "    x = self.decoder(x)\n",
        "\n",
        "    return x"
      ]
    },
    {
      "cell_type": "markdown",
      "metadata": {
        "colab_type": "text",
        "id": "zT6Cwq78sOrI"
      },
      "source": [
        "Our Autoencoder passes the input through the Encoder and Decoder. Let's create an instance of it:"
      ]
    },
    {
      "cell_type": "code",
      "execution_count": null,
      "metadata": {
        "colab": {},
        "colab_type": "code",
        "id": "Mo0rvFqRBgnu"
      },
      "outputs": [
        {
          "ename": "",
          "evalue": "",
          "output_type": "error",
          "traceback": [
            "\u001b[1;31mДля выполнения ячеек с \"Python 3.10.4 ('tensor_env')\" требуется пакет ipykernel.\n",
            "\u001b[1;31mВыполните следующую команду, чтобы установить \"ipykernel\" в среде Python. \n",
            "\u001b[1;31mКоманда: \"conda install -n tensor_env ipykernel --update-deps --force-reinstall\""
          ]
        }
      ],
      "source": [
        "model = RecurrentAutoencoder(seq_len, n_features, 128)\n",
        "model = model.to(device)"
      ]
    },
    {
      "cell_type": "markdown",
      "metadata": {
        "colab_type": "text",
        "id": "n1ENnubQdnJN"
      },
      "source": [
        "## Training\n",
        "\n",
        "Let's write a helper function for our training process:"
      ]
    },
    {
      "cell_type": "code",
      "execution_count": null,
      "metadata": {
        "colab": {},
        "colab_type": "code",
        "id": "ryEmRvl9DfEj"
      },
      "outputs": [
        {
          "ename": "",
          "evalue": "",
          "output_type": "error",
          "traceback": [
            "\u001b[1;31mДля выполнения ячеек с \"Python 3.10.4 ('tensor_env')\" требуется пакет ipykernel.\n",
            "\u001b[1;31mВыполните следующую команду, чтобы установить \"ipykernel\" в среде Python. \n",
            "\u001b[1;31mКоманда: \"conda install -n tensor_env ipykernel --update-deps --force-reinstall\""
          ]
        }
      ],
      "source": [
        "def train_model(model, train_dataset, val_dataset, n_epochs):\n",
        "  optimizer = torch.optim.Adam(model.parameters(), lr=1e-3)\n",
        "  criterion = nn.L1Loss(reduction='sum').to(device)\n",
        "  history = dict(train=[], val=[])\n",
        "\n",
        "  best_model_wts = copy.deepcopy(model.state_dict())\n",
        "  best_loss = 10000.0\n",
        "  \n",
        "  for epoch in range(1, n_epochs + 1):\n",
        "    model = model.train()\n",
        "\n",
        "    train_losses = []\n",
        "    for seq_true in train_dataset:\n",
        "      optimizer.zero_grad()\n",
        "\n",
        "      seq_true = seq_true.to(device)\n",
        "      seq_pred = model(seq_true)\n",
        "\n",
        "      loss = criterion(seq_pred, seq_true)\n",
        "\n",
        "      loss.backward()\n",
        "      optimizer.step()\n",
        "\n",
        "      train_losses.append(loss.item())\n",
        "\n",
        "    val_losses = []\n",
        "    model = model.eval()\n",
        "    with torch.no_grad():\n",
        "      for seq_true in val_dataset:\n",
        "\n",
        "        seq_true = seq_true.to(device)\n",
        "        seq_pred = model(seq_true)\n",
        "\n",
        "        loss = criterion(seq_pred, seq_true)\n",
        "        val_losses.append(loss.item())\n",
        "\n",
        "    train_loss = np.mean(train_losses)\n",
        "    val_loss = np.mean(val_losses)\n",
        "\n",
        "    history['train'].append(train_loss)\n",
        "    history['val'].append(val_loss)\n",
        "\n",
        "    if val_loss < best_loss:\n",
        "      best_loss = val_loss\n",
        "      best_model_wts = copy.deepcopy(model.state_dict())\n",
        "\n",
        "    print(f'Epoch {epoch}: train loss {train_loss} val loss {val_loss}')\n",
        "\n",
        "  model.load_state_dict(best_model_wts)\n",
        "  return model.eval(), history"
      ]
    },
    {
      "cell_type": "markdown",
      "metadata": {
        "colab_type": "text",
        "id": "7iWQrzV1ASpW"
      },
      "source": [
        "At each epoch, the training process feeds our model with all training examples and evaluates the performance on the validation set. Note that we're using a batch size of 1 (our model sees only 1 sequence at a time). We also record the training and validation set losses during the process.\n",
        "\n",
        "Note that we're minimizing the [L1Loss](https://pytorch.org/docs/stable/nn.html#l1loss), which measures the MAE (mean absolute error). Why? The reconstructions seem to be better than with MSE (mean squared error).\n",
        "\n",
        "We'll get the version of the model with the smallest validation error. Let's do some training:"
      ]
    },
    {
      "cell_type": "code",
      "execution_count": null,
      "metadata": {
        "colab": {
          "base_uri": "https://localhost:8080/",
          "height": 1000
        },
        "colab_type": "code",
        "id": "saamYyUsHdw0",
        "outputId": "811c91c2-de6e-4215-f331-af9e33799c18"
      },
      "outputs": [
        {
          "ename": "",
          "evalue": "",
          "output_type": "error",
          "traceback": [
            "\u001b[1;31mДля выполнения ячеек с \"Python 3.10.4 ('tensor_env')\" требуется пакет ipykernel.\n",
            "\u001b[1;31mВыполните следующую команду, чтобы установить \"ipykernel\" в среде Python. \n",
            "\u001b[1;31mКоманда: \"conda install -n tensor_env ipykernel --update-deps --force-reinstall\""
          ]
        }
      ],
      "source": [
        "model, history = train_model(\n",
        "  model, \n",
        "  train_dataset, \n",
        "  val_dataset, \n",
        "  n_epochs=150\n",
        ")"
      ]
    },
    {
      "cell_type": "code",
      "execution_count": null,
      "metadata": {
        "colab": {
          "base_uri": "https://localhost:8080/",
          "height": 523
        },
        "colab_type": "code",
        "id": "uztvlmNkQSUE",
        "outputId": "48c10c3b-55a8-4513-b263-3531fc6b51fd"
      },
      "outputs": [
        {
          "ename": "",
          "evalue": "",
          "output_type": "error",
          "traceback": [
            "\u001b[1;31mДля выполнения ячеек с \"Python 3.10.4 ('tensor_env')\" требуется пакет ipykernel.\n",
            "\u001b[1;31mВыполните следующую команду, чтобы установить \"ipykernel\" в среде Python. \n",
            "\u001b[1;31mКоманда: \"conda install -n tensor_env ipykernel --update-deps --force-reinstall\""
          ]
        }
      ],
      "source": [
        "ax = plt.figure().gca()\n",
        "\n",
        "ax.plot(history['train'])\n",
        "ax.plot(history['val'])\n",
        "plt.ylabel('Loss')\n",
        "plt.xlabel('Epoch')\n",
        "plt.legend(['train', 'test'])\n",
        "plt.title('Loss over training epochs')\n",
        "plt.show();"
      ]
    },
    {
      "cell_type": "markdown",
      "metadata": {
        "colab_type": "text",
        "id": "X2IGZFBEVJjq"
      },
      "source": [
        "Our model converged quite well. Seems like we might've needed a larger validation set to smoothen the results, but that'll do for now."
      ]
    },
    {
      "cell_type": "markdown",
      "metadata": {
        "colab_type": "text",
        "id": "pmoaNSERn09J"
      },
      "source": [
        "## Saving the model\n",
        "\n",
        "Let's store the model for later use:"
      ]
    },
    {
      "cell_type": "code",
      "execution_count": null,
      "metadata": {
        "colab": {},
        "colab_type": "code",
        "id": "tLC_ClIpnv9H"
      },
      "outputs": [
        {
          "ename": "",
          "evalue": "",
          "output_type": "error",
          "traceback": [
            "\u001b[1;31mДля выполнения ячеек с \"Python 3.10.4 ('tensor_env')\" требуется пакет ipykernel.\n",
            "\u001b[1;31mВыполните следующую команду, чтобы установить \"ipykernel\" в среде Python. \n",
            "\u001b[1;31mКоманда: \"conda install -n tensor_env ipykernel --update-deps --force-reinstall\""
          ]
        }
      ],
      "source": [
        "MODEL_PATH = 'model.pth'\n",
        "\n",
        "torch.save(model, MODEL_PATH)"
      ]
    },
    {
      "cell_type": "markdown",
      "metadata": {
        "colab_type": "text",
        "id": "E6q7H7-ea-Lb"
      },
      "source": [
        "Uncomment the next lines, if you want to download and load the pre-trained model:"
      ]
    },
    {
      "cell_type": "code",
      "execution_count": null,
      "metadata": {
        "colab": {},
        "colab_type": "code",
        "id": "e4Hxo-Xftiej"
      },
      "outputs": [
        {
          "ename": "",
          "evalue": "",
          "output_type": "error",
          "traceback": [
            "\u001b[1;31mДля выполнения ячеек с \"Python 3.10.4 ('tensor_env')\" требуется пакет ipykernel.\n",
            "\u001b[1;31mВыполните следующую команду, чтобы установить \"ipykernel\" в среде Python. \n",
            "\u001b[1;31mКоманда: \"conda install -n tensor_env ipykernel --update-deps --force-reinstall\""
          ]
        }
      ],
      "source": [
        "# !gdown --id 1jEYx5wGsb7Ix8cZAw3l5p5pOwHs3_I9A\n",
        "# model = torch.load('model.pth')\n",
        "# model = model.to(device)"
      ]
    },
    {
      "cell_type": "markdown",
      "metadata": {
        "colab_type": "text",
        "id": "EwLujPFXT054"
      },
      "source": [
        "## Choosing a threshold\n",
        "\n",
        "With our model at hand, we can have a look at the reconstruction error on the training set. Let's start by writing a helper function to get predictions from our model:"
      ]
    },
    {
      "cell_type": "code",
      "execution_count": null,
      "metadata": {
        "colab": {},
        "colab_type": "code",
        "id": "AAhYZy9bRNLM"
      },
      "outputs": [
        {
          "ename": "",
          "evalue": "",
          "output_type": "error",
          "traceback": [
            "\u001b[1;31mДля выполнения ячеек с \"Python 3.10.4 ('tensor_env')\" требуется пакет ipykernel.\n",
            "\u001b[1;31mВыполните следующую команду, чтобы установить \"ipykernel\" в среде Python. \n",
            "\u001b[1;31mКоманда: \"conda install -n tensor_env ipykernel --update-deps --force-reinstall\""
          ]
        }
      ],
      "source": [
        "def predict(model, dataset):\n",
        "  predictions, losses = [], []\n",
        "  criterion = nn.L1Loss(reduction='sum').to(device)\n",
        "  with torch.no_grad():\n",
        "    model = model.eval()\n",
        "    for seq_true in dataset:\n",
        "      seq_true = seq_true.to(device)\n",
        "      seq_pred = model(seq_true)\n",
        "\n",
        "      loss = criterion(seq_pred, seq_true)\n",
        "\n",
        "      predictions.append(seq_pred.cpu().numpy().flatten())\n",
        "      losses.append(loss.item())\n",
        "  return predictions, losses"
      ]
    },
    {
      "cell_type": "markdown",
      "metadata": {
        "colab_type": "text",
        "id": "wVnNtIreDXf5"
      },
      "source": [
        "Our function goes through each example in the dataset and records the predictions and losses. Let's get the losses and have a look at them:"
      ]
    },
    {
      "cell_type": "code",
      "execution_count": null,
      "metadata": {
        "colab": {
          "base_uri": "https://localhost:8080/",
          "height": 488
        },
        "colab_type": "code",
        "id": "pvn141SDS33P",
        "outputId": "f6d9f42f-489e-4268-fc3e-368859fffa43"
      },
      "outputs": [
        {
          "ename": "",
          "evalue": "",
          "output_type": "error",
          "traceback": [
            "\u001b[1;31mДля выполнения ячеек с \"Python 3.10.4 ('tensor_env')\" требуется пакет ipykernel.\n",
            "\u001b[1;31mВыполните следующую команду, чтобы установить \"ipykernel\" в среде Python. \n",
            "\u001b[1;31mКоманда: \"conda install -n tensor_env ipykernel --update-deps --force-reinstall\""
          ]
        }
      ],
      "source": [
        "_, losses = predict(model, train_dataset)\n",
        "\n",
        "sns.distplot(losses, bins=50, kde=True);"
      ]
    },
    {
      "cell_type": "code",
      "execution_count": null,
      "metadata": {
        "colab": {},
        "colab_type": "code",
        "id": "MjSCtDZ8_xGB"
      },
      "outputs": [
        {
          "ename": "",
          "evalue": "",
          "output_type": "error",
          "traceback": [
            "\u001b[1;31mДля выполнения ячеек с \"Python 3.10.4 ('tensor_env')\" требуется пакет ipykernel.\n",
            "\u001b[1;31mВыполните следующую команду, чтобы установить \"ipykernel\" в среде Python. \n",
            "\u001b[1;31mКоманда: \"conda install -n tensor_env ipykernel --update-deps --force-reinstall\""
          ]
        }
      ],
      "source": [
        "THRESHOLD = 26"
      ]
    },
    {
      "cell_type": "markdown",
      "metadata": {
        "colab_type": "text",
        "id": "mw2dm631T4a5"
      },
      "source": [
        "## Evaluation\n",
        "\n",
        "Using the threshold, we can turn the problem into a simple binary classification task:\n",
        "\n",
        "- If the reconstruction loss for an example is below the threshold, we'll classify it as a *normal* heartbeat\n",
        "- Alternatively, if the loss is higher than the threshold, we'll classify it as an anomaly"
      ]
    },
    {
      "cell_type": "markdown",
      "metadata": {
        "colab_type": "text",
        "id": "k94t9U3X7uVA"
      },
      "source": [
        "### Normal hearbeats\n",
        "\n",
        "Let's check how well our model does on normal heartbeats. We'll use the normal heartbeats from the test set (our model haven't seen those):"
      ]
    },
    {
      "cell_type": "code",
      "execution_count": null,
      "metadata": {
        "colab": {
          "base_uri": "https://localhost:8080/",
          "height": 488
        },
        "colab_type": "code",
        "id": "-z630B5v7Fid",
        "outputId": "38289be7-f326-4759-d1e3-4be4783e3060"
      },
      "outputs": [
        {
          "ename": "",
          "evalue": "",
          "output_type": "error",
          "traceback": [
            "\u001b[1;31mДля выполнения ячеек с \"Python 3.10.4 ('tensor_env')\" требуется пакет ipykernel.\n",
            "\u001b[1;31mВыполните следующую команду, чтобы установить \"ipykernel\" в среде Python. \n",
            "\u001b[1;31mКоманда: \"conda install -n tensor_env ipykernel --update-deps --force-reinstall\""
          ]
        }
      ],
      "source": [
        "predictions, pred_losses = predict(model, test_normal_dataset)\n",
        "sns.distplot(pred_losses, bins=50, kde=True);"
      ]
    },
    {
      "cell_type": "markdown",
      "metadata": {
        "colab_type": "text",
        "id": "xCmzETkkLLvh"
      },
      "source": [
        "We'll count the correct predictions:"
      ]
    },
    {
      "cell_type": "code",
      "execution_count": null,
      "metadata": {
        "colab": {
          "base_uri": "https://localhost:8080/",
          "height": 34
        },
        "colab_type": "code",
        "id": "BR-hcvUP7OBt",
        "outputId": "9f7c7a5d-e130-483c-e3b9-526697bdf775"
      },
      "outputs": [
        {
          "ename": "",
          "evalue": "",
          "output_type": "error",
          "traceback": [
            "\u001b[1;31mДля выполнения ячеек с \"Python 3.10.4 ('tensor_env')\" требуется пакет ipykernel.\n",
            "\u001b[1;31mВыполните следующую команду, чтобы установить \"ipykernel\" в среде Python. \n",
            "\u001b[1;31mКоманда: \"conda install -n tensor_env ipykernel --update-deps --force-reinstall\""
          ]
        }
      ],
      "source": [
        "correct = sum(l <= THRESHOLD for l in pred_losses)\n",
        "print(f'Correct normal predictions: {correct}/{len(test_normal_dataset)}')"
      ]
    },
    {
      "cell_type": "markdown",
      "metadata": {
        "colab_type": "text",
        "id": "hYbH8iEz7wmh"
      },
      "source": [
        "### Anomalies"
      ]
    },
    {
      "cell_type": "markdown",
      "metadata": {
        "colab_type": "text",
        "id": "hidyhcu6zC8-"
      },
      "source": [
        "We'll do the same with the anomaly examples, but their number is much higher. We'll get a subset that has the same size as the normal heartbeats:"
      ]
    },
    {
      "cell_type": "code",
      "execution_count": null,
      "metadata": {
        "colab": {},
        "colab_type": "code",
        "id": "WJcg5DXWyiep"
      },
      "outputs": [
        {
          "ename": "",
          "evalue": "",
          "output_type": "error",
          "traceback": [
            "\u001b[1;31mДля выполнения ячеек с \"Python 3.10.4 ('tensor_env')\" требуется пакет ipykernel.\n",
            "\u001b[1;31mВыполните следующую команду, чтобы установить \"ipykernel\" в среде Python. \n",
            "\u001b[1;31mКоманда: \"conda install -n tensor_env ipykernel --update-deps --force-reinstall\""
          ]
        }
      ],
      "source": [
        "anomaly_dataset = test_anomaly_dataset[:len(test_normal_dataset)]"
      ]
    },
    {
      "cell_type": "markdown",
      "metadata": {
        "colab_type": "text",
        "id": "gcBoplGU0hR8"
      },
      "source": [
        "Now we can take the predictions of our model for the subset of anomalies:"
      ]
    },
    {
      "cell_type": "code",
      "execution_count": null,
      "metadata": {
        "colab": {
          "base_uri": "https://localhost:8080/",
          "height": 488
        },
        "colab_type": "code",
        "id": "tLCuS8oL7hG2",
        "outputId": "5944d102-7682-4524-eb8e-4eb025fb8669"
      },
      "outputs": [
        {
          "ename": "",
          "evalue": "",
          "output_type": "error",
          "traceback": [
            "\u001b[1;31mДля выполнения ячеек с \"Python 3.10.4 ('tensor_env')\" требуется пакет ipykernel.\n",
            "\u001b[1;31mВыполните следующую команду, чтобы установить \"ipykernel\" в среде Python. \n",
            "\u001b[1;31mКоманда: \"conda install -n tensor_env ipykernel --update-deps --force-reinstall\""
          ]
        }
      ],
      "source": [
        "predictions, pred_losses = predict(model, anomaly_dataset)\n",
        "sns.distplot(pred_losses, bins=50, kde=True);"
      ]
    },
    {
      "cell_type": "markdown",
      "metadata": {
        "colab_type": "text",
        "id": "EkgGXs4E06so"
      },
      "source": [
        "Finally, we can count the number of examples above the threshold (considered as anomalies):"
      ]
    },
    {
      "cell_type": "code",
      "execution_count": null,
      "metadata": {
        "colab": {
          "base_uri": "https://localhost:8080/",
          "height": 34
        },
        "colab_type": "code",
        "id": "_NEUmDoM8M6q",
        "outputId": "389edfb6-3c88-4ec3-ed1e-63c386294ac1"
      },
      "outputs": [
        {
          "ename": "",
          "evalue": "",
          "output_type": "error",
          "traceback": [
            "\u001b[1;31mДля выполнения ячеек с \"Python 3.10.4 ('tensor_env')\" требуется пакет ipykernel.\n",
            "\u001b[1;31mВыполните следующую команду, чтобы установить \"ipykernel\" в среде Python. \n",
            "\u001b[1;31mКоманда: \"conda install -n tensor_env ipykernel --update-deps --force-reinstall\""
          ]
        }
      ],
      "source": [
        "correct = sum(l > THRESHOLD for l in pred_losses)\n",
        "print(f'Correct anomaly predictions: {correct}/{len(anomaly_dataset)}')"
      ]
    },
    {
      "cell_type": "markdown",
      "metadata": {
        "colab_type": "text",
        "id": "v0PfwvTZ23_s"
      },
      "source": [
        "We have very good results. In the real world, you can tweak the threshold depending on what kind of errors you want to tolerate. In this case, you might want to have more false positives (normal heartbeats considered as anomalies) than false negatives (anomalies considered as normal)."
      ]
    },
    {
      "cell_type": "markdown",
      "metadata": {
        "colab_type": "text",
        "id": "KrW0seHZ72Mu"
      },
      "source": [
        "#### Looking at Examples\n",
        "\n",
        "We can overlay the real and reconstructed Time Series values to see how close they are. We'll do it for some normal and anomaly cases:"
      ]
    },
    {
      "cell_type": "code",
      "execution_count": null,
      "metadata": {
        "colab": {},
        "colab_type": "code",
        "id": "gBRWRk6WWdNC"
      },
      "outputs": [
        {
          "ename": "",
          "evalue": "",
          "output_type": "error",
          "traceback": [
            "\u001b[1;31mДля выполнения ячеек с \"Python 3.10.4 ('tensor_env')\" требуется пакет ipykernel.\n",
            "\u001b[1;31mВыполните следующую команду, чтобы установить \"ipykernel\" в среде Python. \n",
            "\u001b[1;31mКоманда: \"conda install -n tensor_env ipykernel --update-deps --force-reinstall\""
          ]
        }
      ],
      "source": [
        "def plot_prediction(data, model, title, ax):\n",
        "  predictions, pred_losses = predict(model, [data])\n",
        "\n",
        "  ax.plot(data, label='true')\n",
        "  ax.plot(predictions[0], label='reconstructed')\n",
        "  ax.set_title(f'{title} (loss: {np.around(pred_losses[0], 2)})')\n",
        "  ax.legend()"
      ]
    },
    {
      "cell_type": "code",
      "execution_count": null,
      "metadata": {
        "colab": {
          "base_uri": "https://localhost:8080/",
          "height": 596
        },
        "colab_type": "code",
        "id": "ZnN1K63BYomX",
        "outputId": "4918d7d6-88a3-4549-a994-736fa1969176"
      },
      "outputs": [
        {
          "ename": "",
          "evalue": "",
          "output_type": "error",
          "traceback": [
            "\u001b[1;31mДля выполнения ячеек с \"Python 3.10.4 ('tensor_env')\" требуется пакет ipykernel.\n",
            "\u001b[1;31mВыполните следующую команду, чтобы установить \"ipykernel\" в среде Python. \n",
            "\u001b[1;31mКоманда: \"conda install -n tensor_env ipykernel --update-deps --force-reinstall\""
          ]
        }
      ],
      "source": [
        "fig, axs = plt.subplots(\n",
        "  nrows=2,\n",
        "  ncols=6,\n",
        "  sharey=True,\n",
        "  sharex=True,\n",
        "  figsize=(22, 8)\n",
        ")\n",
        "\n",
        "for i, data in enumerate(test_normal_dataset[:6]):\n",
        "  plot_prediction(data, model, title='Normal', ax=axs[0, i])\n",
        "\n",
        "for i, data in enumerate(test_anomaly_dataset[:6]):\n",
        "  plot_prediction(data, model, title='Anomaly', ax=axs[1, i])\n",
        "\n",
        "fig.tight_layout();"
      ]
    },
    {
      "cell_type": "markdown",
      "metadata": {
        "colab_type": "text",
        "id": "dC1-69KD2lQ0"
      },
      "source": [
        "## Summary\n",
        "\n",
        "In this tutorial, you learned how to create an LSTM Autoencoder with PyTorch and use it to detect heartbeat anomalies in ECG data.\n",
        "\n",
        "- [Read the tutorial](https://www.curiousily.com/posts/time-series-anomaly-detection-using-lstm-autoencoder-with-pytorch-in-python/)\n",
        "- [Run the notebook in your browser (Google Colab)](https://colab.research.google.com/drive/1_J2MrBSvsJfOcVmYAN2-WSp36BtsFZCa)\n",
        "- [Read the Getting Things Done with Pytorch book](https://github.com/curiousily/Getting-Things-Done-with-Pytorch)\n",
        "\n",
        "You learned how to:\n",
        "\n",
        "- Prepare a dataset for Anomaly Detection from Time Series Data\n",
        "- Build an LSTM Autoencoder with PyTorch\n",
        "- Train and evaluate your model\n",
        "- Choose a threshold for anomaly detection\n",
        "- Classify unseen examples as normal or anomaly\n",
        "\n",
        "While our Time Series data is univariate (we have only 1 feature), the code should work for multivariate datasets (multiple features) with little or no modification. Feel free to try it!"
      ]
    },
    {
      "cell_type": "markdown",
      "metadata": {
        "colab_type": "text",
        "id": "9icnPwTOW9RF"
      },
      "source": [
        "## References\n",
        "\n",
        "- [Sequitur - Recurrent Autoencoder (RAE)](https://github.com/shobrook/sequitur)\n",
        "- [Towards Never-Ending Learning from Time Series Streams](https://www.cs.ucr.edu/~eamonn/neverending.pdf)\n",
        "- [LSTM Autoencoder for Anomaly Detection](https://towardsdatascience.com/lstm-autoencoder-for-anomaly-detection-e1f4f2ee7ccf)"
      ]
    }
  ],
  "metadata": {
    "accelerator": "GPU",
    "colab": {
      "collapsed_sections": [],
      "name": "06.time-series-anomaly-detection-ecg.ipynb",
      "provenance": []
    },
    "kernelspec": {
      "display_name": "Python 3.10.4 ('tensor_env')",
      "language": "python",
      "name": "python3"
    },
    "language_info": {
      "name": "python",
      "version": "3.10.4"
    },
    "vscode": {
      "interpreter": {
        "hash": "932ae9f1dbf933d728959d77bb963987c5ed56155ca235302146716d4480850c"
      }
    }
  },
  "nbformat": 4,
  "nbformat_minor": 0
}
